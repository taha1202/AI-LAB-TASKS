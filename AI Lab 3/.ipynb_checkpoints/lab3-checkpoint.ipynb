{
 "cells": [
  {
   "cell_type": "markdown",
   "id": "17a75be0-df83-4bc0-88b7-8c230c43f530",
   "metadata": {},
   "source": [
    "# TASK 1"
   ]
  },
  {
   "cell_type": "markdown",
   "id": "ff59483b-ed05-412b-8e73-f7cd12b4a429",
   "metadata": {},
   "source": [
    "### DLS "
   ]
  },
  {
   "cell_type": "code",
   "execution_count": 1,
   "id": "27689058-f43c-4abf-83aa-974a567160af",
   "metadata": {},
   "outputs": [
    {
     "name": "stdout",
     "output_type": "stream",
     "text": [
      "Goal found with DLS. Path: ['a', 'd', 'i', 'm']\n"
     ]
    }
   ],
   "source": [
    "class Environment:\n",
    "    def __init__(self, graph):\n",
    "        self.graph = graph\n",
    "\n",
    "    def get_percept(self, node):\n",
    "        return node\n",
    "    \n",
    "class Agent:\n",
    "    def __init__(self):\n",
    "        pass\n",
    "        \n",
    "    def act(self, start, goal, graph, limit):\n",
    "        visited = []\n",
    "\n",
    "        def dfs(node, depth):\n",
    "            if depth > limit:\n",
    "                return None\n",
    "\n",
    "            visited.append(node)\n",
    "\n",
    "            if node == goal:\n",
    "                print(f\"Goal found with DLS. Path: {visited}\")\n",
    "                return visited\n",
    "\n",
    "            for neighbor in graph.get(node, []):\n",
    "                if neighbor not in visited:\n",
    "                    path = dfs(neighbor, depth + 1)\n",
    "                    if path:\n",
    "                        return path\n",
    "\n",
    "            visited.pop()\n",
    "            return None\n",
    "\n",
    "        result = dfs(start, 0)\n",
    "        if not result:\n",
    "            print(\"Goal not found within depth limit.\")\n",
    "\n",
    "\n",
    "        \n",
    "def run_agent(agent, environment, start, end, lim):\n",
    "    percept = environment.get_percept(start)\n",
    "    agent.act(percept, end, environment.graph, lim)\n",
    "   \n",
    "\n",
    "\n",
    "tree = {\n",
    "    \"a\": [\"b\", \"c\", \"d\"],\n",
    "    \"b\": [\"e\", \"f\"],\n",
    "    \"c\": [\"g\"],\n",
    "    \"d\": [\"h\", \"i\"],\n",
    "    \"e\": [\"j\"],\n",
    "    \"f\": [\"k\", \"l\"],\n",
    "    \"g\": [],\n",
    "    \"h\": [],\n",
    "    \"i\": [\"m\", \"n\"],\n",
    "    \"j\": [],\n",
    "    \"k\": [],\n",
    "    \"l\": [],\n",
    "    \"m\": [],\n",
    "    \"n\": []\n",
    "}\n",
    "\n",
    "agent = Agent()\n",
    "environment = Environment(tree)\n",
    "run_agent(agent, environment, \"a\", \"m\", 3)"
   ]
  },
  {
   "cell_type": "markdown",
   "id": "21e98254-1ff5-450d-bbcb-c3196b55fdb8",
   "metadata": {},
   "source": [
    "### UCS"
   ]
  },
  {
   "cell_type": "code",
   "execution_count": 2,
   "id": "eeb047f2-c220-4a0a-88a6-218bbb99d5a8",
   "metadata": {},
   "outputs": [
    {
     "name": "stdout",
     "output_type": "stream",
     "text": [
      "Goal found with UCS. Path: ['A', 'C', 'F', 'I'], Total Cost: 8\n"
     ]
    }
   ],
   "source": [
    "class Environment:\n",
    "    def __init__(self, graph):\n",
    "        self.graph = graph\n",
    "\n",
    "    def get_percept(self, node):\n",
    "        return node\n",
    "\n",
    "\n",
    "class Agent:\n",
    "    def __init__(self):\n",
    "        pass\n",
    "\n",
    "    def act(self, graph, start, goal):\n",
    "        \n",
    "        frontier = [(start, 0)]  \n",
    "        visited = set()  \n",
    "        cost_so_far = {start: 0}  \n",
    "        came_from = {start: None}  \n",
    "\n",
    "        while frontier:\n",
    "            \n",
    "            frontier.sort(key=lambda x: x[1])\n",
    "            current_node, current_cost = frontier.pop(0)\n",
    "\n",
    "            if current_node in visited:\n",
    "                continue\n",
    "            visited.add(current_node)\n",
    "\n",
    "            if current_node == goal:\n",
    "                path = []\n",
    "                while current_node is not None:\n",
    "                    path.append(current_node)\n",
    "                    current_node = came_from[current_node]\n",
    "                path.reverse()\n",
    "                print(f\"Goal found with UCS. Path: {path}, Total Cost: {current_cost}\")\n",
    "                return\n",
    "\n",
    "            for neighbor, cost in graph[current_node].items():\n",
    "                new_cost = current_cost + cost\n",
    "                if neighbor not in cost_so_far or new_cost < cost_so_far[neighbor]:\n",
    "                    cost_so_far[neighbor] = new_cost\n",
    "                    came_from[neighbor] = current_node\n",
    "                    frontier.append((neighbor, new_cost))\n",
    "\n",
    "        print(\"Goal not found\")\n",
    "\n",
    "\n",
    "def run_agent(agent, environment, start, goal):\n",
    "    percept = environment.get_percept(start)\n",
    "    agent.act(environment.graph, percept, goal)\n",
    "\n",
    "\n",
    "graph = {\n",
    "    'A': {'B': 2, 'C': 1},\n",
    "    'B': {'D': 4, 'E': 3},\n",
    "    'C': {'F': 1, 'G': 5},\n",
    "    'D': {'H': 2},\n",
    "    'E': {},\n",
    "    'F': {'I': 6},\n",
    "    'G': {},\n",
    "    'H': {},\n",
    "    'I': {}\n",
    "}\n",
    "\n",
    "agent = Agent()\n",
    "environment = Environment(graph)\n",
    "run_agent(agent, environment, 'A', 'I')\n"
   ]
  },
  {
   "cell_type": "markdown",
   "id": "39b5bf34-bff5-4eab-bf2d-2dbd881e5050",
   "metadata": {},
   "source": [
    "# TASK 2"
   ]
  },
  {
   "cell_type": "code",
   "execution_count": 8,
   "id": "8b3ca0c7-06b8-4b45-9011-25e409437cb3",
   "metadata": {},
   "outputs": [
    {
     "name": "stdout",
     "output_type": "stream",
     "text": [
      "Best Route: ['1', '2', '4', '3', '1']\n",
      "Minimum Cost: 85\n"
     ]
    }
   ],
   "source": [
    "def tsp_ucs(graph, start='1'):\n",
    "    n = len(graph)\n",
    "    frontier = [(start, 0, 1 << (int(start) - 1), [start])]\n",
    "    visited = set()\n",
    "    min_cost = float('inf')\n",
    "    best_route = []\n",
    "    \n",
    "    while frontier:\n",
    "        frontier.sort(key=lambda x: x[1]) \n",
    "        current_node, current_cost, mask, path = frontier.pop(0)\n",
    "        \n",
    "        if mask == (1 << n) - 1: \n",
    "            final_cost = current_cost + graph[current_node].get(start, float('inf'))\n",
    "            if final_cost < min_cost:\n",
    "                min_cost = final_cost\n",
    "                best_route = path + [start]\n",
    "            continue\n",
    "        \n",
    "        for neighbor, cost in graph[current_node].items():\n",
    "            if not (mask & (1 << (int(neighbor) - 1))):  \n",
    "                new_mask = mask | (1 << (int(neighbor) - 1))\n",
    "                new_cost = current_cost + cost\n",
    "                frontier.append((neighbor, new_cost, new_mask, path + [neighbor]))\n",
    "    \n",
    "    return best_route, min_cost\n",
    "\n",
    "graph = {\n",
    "    '1': {'2': 10, '3': 20, '4': 20},\n",
    "    '2': {'1': 10, '3': 35, '4': 25},\n",
    "    '3': {'1': 20, '2': 35, '4': 30},\n",
    "    '4': {'1': 20, '2': 25, '3': 30}\n",
    "}\n",
    "\n",
    "route, cost = tsp_ucs(graph)\n",
    "print(f\"Best Route: {route}\")\n",
    "print(f\"Minimum Cost: {cost}\")"
   ]
  },
  {
   "cell_type": "markdown",
   "id": "4822b470-b615-44e0-a828-43961a6a4fd4",
   "metadata": {},
   "source": [
    "# TASK 3"
   ]
  },
  {
   "cell_type": "markdown",
   "id": "d9fb4b18-41c4-4480-b125-823ba87c09fe",
   "metadata": {},
   "source": [
    "### Iterative Deepning (DFS) on Tree"
   ]
  },
  {
   "cell_type": "code",
   "execution_count": 9,
   "id": "aacdd9f7-88fe-49bc-a9f5-df35bb00071a",
   "metadata": {},
   "outputs": [
    {
     "name": "stdout",
     "output_type": "stream",
     "text": [
      "Depth: 0\n",
      "Goal not found within depth limit.\n",
      "Depth: 1\n",
      "Goal not found within depth limit.\n",
      "Depth: 2\n",
      "Goal not found within depth limit.\n",
      "Depth: 3\n",
      "Goal not found within depth limit.\n",
      "Depth: 4\n",
      "\n",
      "Path to goal: A → C → F → I\n"
     ]
    }
   ],
   "source": [
    "tree = {\n",
    "'A': ['B', 'C'],\n",
    "'B': ['D', 'E'],\n",
    "'C': ['F', 'G'],\n",
    "'D': ['H'],\n",
    "'E': [],\n",
    "'F': ['I'],\n",
    "'G': [],\n",
    "'H': [],\n",
    "'I': []\n",
    "}\n",
    "\n",
    "def dls(node, goal, depth, path):\n",
    "    if depth == 0:\n",
    "        return False\n",
    "    if node == goal:\n",
    "        path.append(node)\n",
    "        return True\n",
    "    if node not in tree:\n",
    "        return False\n",
    "    for child in tree[node]:\n",
    "        if dls(child, goal, depth - 1, path):\n",
    "            path.append(node) \n",
    "            return True\n",
    "    return False\n",
    "\n",
    "def iterative_deepening(start, goal, max_depth):\n",
    "    for depth in range(max_depth + 1):\n",
    "        print(f\"Depth: {depth}\")\n",
    "        path = []\n",
    "        if dls(start, goal, depth, path):\n",
    "            print(\"\\nPath to goal:\" ,\" → \".join(reversed(path))) \n",
    "            return\n",
    "        print(\"Goal not found within depth limit.\")\n",
    "\n",
    "\n",
    "start_node = 'A'\n",
    "goal_node = 'I'\n",
    "max_search_depth = 5\n",
    "iterative_deepening(start_node, goal_node, max_search_depth)"
   ]
  },
  {
   "cell_type": "markdown",
   "id": "30850530-5b66-4cbd-b2b8-96149951486c",
   "metadata": {},
   "source": [
    "### Iterative Deepning (DFS) on Graph"
   ]
  },
  {
   "cell_type": "code",
   "execution_count": 10,
   "id": "7cbfc38d-28d2-40b9-9013-c514a8c64cd2",
   "metadata": {},
   "outputs": [
    {
     "name": "stdout",
     "output_type": "stream",
     "text": [
      "Depth: 0\n",
      "Goal not found within depth limit.\n",
      "Depth: 1\n",
      "Goal not found within depth limit.\n",
      "Depth: 2\n",
      "Goal not found within depth limit.\n",
      "Depth: 3\n",
      "Goal not found within depth limit.\n",
      "Depth: 4\n",
      "\n",
      "Path to goal: A → C → F → I\n"
     ]
    }
   ],
   "source": [
    "graph = {\n",
    "'A': {'B': 2, 'C': 1},\n",
    "'B': {'D': 4, 'E': 3},\n",
    "'C': {'F': 1, 'G': 5},\n",
    "'D': {'H': 2},\n",
    "'E': {},\n",
    "'F': {'I': 6},\n",
    "'G': {},\n",
    "'H': {},\n",
    "'I': {}\n",
    "}\n",
    "\n",
    "def dls(node, goal, depth, path):\n",
    "    if depth == 0:\n",
    "        return False\n",
    "    if node == goal:\n",
    "        path.append(node)\n",
    "        return True\n",
    "    if node not in graph:\n",
    "        return False\n",
    "    for child in graph[node]:\n",
    "        if dls(child, goal, depth - 1, path):\n",
    "            path.append(node) \n",
    "            return True\n",
    "    return False\n",
    "\n",
    "def iterative_deepening(start, goal, max_depth):\n",
    "    for depth in range(max_depth + 1):\n",
    "        print(f\"Depth: {depth}\")\n",
    "        path = []\n",
    "        if dls(start, goal, depth, path):\n",
    "            print(\"\\nPath to goal:\" ,\" → \".join(reversed(path))) \n",
    "            return\n",
    "        print(\"Goal not found within depth limit.\")\n",
    "\n",
    "\n",
    "start_node = 'A'\n",
    "goal_node = 'I'\n",
    "max_search_depth = 5\n",
    "iterative_deepening(start_node, goal_node, max_search_depth)"
   ]
  },
  {
   "cell_type": "markdown",
   "id": "9d3bf571-da60-404d-be09-e7a0f77cbb8d",
   "metadata": {},
   "source": [
    "# Task 4 "
   ]
  },
  {
   "cell_type": "code",
   "execution_count": 9,
   "id": "7dced31b-4dd4-4d85-bbe7-131448dd95a3",
   "metadata": {},
   "outputs": [
    {
     "name": "stdout",
     "output_type": "stream",
     "text": [
      "------------- Starting Position of Player -------------------\n",
      "\n",
      "\n"
     ]
    },
    {
     "data": {
      "text/plain": [
       "[['S', 0, 1, 0, 0],\n",
       " [1, 0, 1, 0, 1],\n",
       " [1, 0, 0, 0, 'G'],\n",
       " [1, 1, 1, 1, 1],\n",
       " [0, 0, 0, 0, 0]]"
      ]
     },
     "metadata": {},
     "output_type": "display_data"
    },
    {
     "data": {
      "text/plain": [
       "(0, 0)"
      ]
     },
     "metadata": {},
     "output_type": "display_data"
    },
    {
     "ename": "NameError",
     "evalue": "name 'movement' is not defined",
     "output_type": "error",
     "traceback": [
      "\u001b[1;31m---------------------------------------------------------------------------\u001b[0m",
      "\u001b[1;31mNameError\u001b[0m                                 Traceback (most recent call last)",
      "Cell \u001b[1;32mIn[9], line 66\u001b[0m\n\u001b[0;32m     64\u001b[0m start \u001b[38;5;241m=\u001b[39m (\u001b[38;5;241m0\u001b[39m,\u001b[38;5;241m0\u001b[39m)\n\u001b[0;32m     65\u001b[0m \u001b[38;5;28mprint\u001b[39m(\u001b[38;5;124m\"\u001b[39m\u001b[38;5;124m------------- Starting Position of Player -------------------\u001b[39m\u001b[38;5;130;01m\\n\u001b[39;00m\u001b[38;5;130;01m\\n\u001b[39;00m\u001b[38;5;124m\"\u001b[39m)\n\u001b[1;32m---> 66\u001b[0m \u001b[43mrun_agent\u001b[49m\u001b[43m(\u001b[49m\u001b[43magent\u001b[49m\u001b[43m,\u001b[49m\u001b[43menvironment\u001b[49m\u001b[43m,\u001b[49m\u001b[43mstart\u001b[49m\u001b[43m)\u001b[49m\n",
      "Cell \u001b[1;32mIn[9], line 51\u001b[0m, in \u001b[0;36mrun_agent\u001b[1;34m(agent, environment, start)\u001b[0m\n\u001b[0;32m     49\u001b[0m \u001b[38;5;28;01mdef\u001b[39;00m\u001b[38;5;250m \u001b[39m\u001b[38;5;21mrun_agent\u001b[39m(agent,environment,start):\n\u001b[0;32m     50\u001b[0m     percept \u001b[38;5;241m=\u001b[39m environment\u001b[38;5;241m.\u001b[39mget_percept(start)\n\u001b[1;32m---> 51\u001b[0m     \u001b[43magent\u001b[49m\u001b[38;5;241;43m.\u001b[39;49m\u001b[43mbfs\u001b[49m\u001b[43m(\u001b[49m\u001b[43menvironment\u001b[49m\u001b[38;5;241;43m.\u001b[39;49m\u001b[43mgraph\u001b[49m\u001b[43m,\u001b[49m\u001b[43mpercept\u001b[49m\u001b[43m,\u001b[49m\u001b[43menvironment\u001b[49m\u001b[43m)\u001b[49m\n",
      "Cell \u001b[1;32mIn[9], line 36\u001b[0m, in \u001b[0;36mAgent.bfs\u001b[1;34m(self, graph, start, environment)\u001b[0m\n\u001b[0;32m     33\u001b[0m grid_copy[pos[\u001b[38;5;241m0\u001b[39m]][pos[\u001b[38;5;241m1\u001b[39m]] \u001b[38;5;241m=\u001b[39m \u001b[38;5;241m1\u001b[39m  \n\u001b[0;32m     34\u001b[0m display(grid, pos)\n\u001b[1;32m---> 36\u001b[0m \u001b[38;5;28;01mfor\u001b[39;00m i \u001b[38;5;129;01min\u001b[39;00m \u001b[43mmovement\u001b[49m: \n\u001b[0;32m     37\u001b[0m      \u001b[38;5;28;01mif\u001b[39;00m i \u001b[38;5;241m==\u001b[39m \u001b[38;5;124m\"\u001b[39m\u001b[38;5;124mRight\u001b[39m\u001b[38;5;124m\"\u001b[39m \u001b[38;5;129;01mand\u001b[39;00m grid_copy[pos[\u001b[38;5;241m0\u001b[39m]][pos[\u001b[38;5;241m1\u001b[39m]\u001b[38;5;241m+\u001b[39m\u001b[38;5;241m1\u001b[39m] \u001b[38;5;241m!=\u001b[39m \u001b[38;5;241m1\u001b[39m \u001b[38;5;129;01mand\u001b[39;00m \u001b[38;5;241m0\u001b[39m \u001b[38;5;241m<\u001b[39m\u001b[38;5;241m=\u001b[39m pos[\u001b[38;5;241m0\u001b[39m] \u001b[38;5;241m<\u001b[39m \u001b[38;5;241m5\u001b[39m \u001b[38;5;129;01mand\u001b[39;00m \u001b[38;5;241m0\u001b[39m \u001b[38;5;241m<\u001b[39m\u001b[38;5;241m=\u001b[39m pos[\u001b[38;5;241m1\u001b[39m] \u001b[38;5;241m+\u001b[39m \u001b[38;5;241m1\u001b[39m \u001b[38;5;241m<\u001b[39m \u001b[38;5;241m5\u001b[39m:  \n\u001b[0;32m     38\u001b[0m          queue\u001b[38;5;241m.\u001b[39mappend((pos[\u001b[38;5;241m0\u001b[39m],pos[\u001b[38;5;241m1\u001b[39m] \u001b[38;5;241m+\u001b[39m \u001b[38;5;241m1\u001b[39m))\n",
      "\u001b[1;31mNameError\u001b[0m: name 'movement' is not defined"
     ]
    }
   ],
   "source": [
    "class Environment:\n",
    "    def __init__(self,graph):\n",
    "        self.graph = graph\n",
    "        \n",
    "    def get_percept(self,node):\n",
    "        return node\n",
    "        \n",
    "    def display(grid, player_pos):\n",
    "        for i, row in enumerate(grid):\n",
    "            for j, cell in enumerate(row):\n",
    "                if (i, j) == player_pos:\n",
    "                    print(\"👤\",end = \"\\t\" )\n",
    "                else:\n",
    "                    print(cell, end = \"\\t\")\n",
    "            print()  \n",
    "        print(\"\\n\\n\")\n",
    "    \n",
    "class Agent:\n",
    "    def __init__(self):\n",
    "        pass\n",
    "        \n",
    "    def bfs(self,graph,start,movement,environment):\n",
    "        goal = 'G'\n",
    "        grid_copy = [row[:] for row in graph]\n",
    "        queue = []\n",
    "        queue.append(start)\n",
    "        while queue:\n",
    "           pos = queue.pop(0)\n",
    "           if grid_copy[pos[0]][pos[1]] == goal:\n",
    "                print(\"------------- Player Reached The Goal -------------------\\n\\n\")\n",
    "                display(grid, pos)\n",
    "                break\n",
    "           grid_copy[pos[0]][pos[1]] = 1  \n",
    "           display(grid, pos)\n",
    "            \n",
    "           for i in movement: \n",
    "                if i == \"Right\" and grid_copy[pos[0]][pos[1]+1] != 1 and 0 <= pos[0] < 5 and 0 <= pos[1] + 1 < 5:  \n",
    "                    queue.append((pos[0],pos[1] + 1))\n",
    "                   \n",
    "                if i == \"Left\" and grid_copy[pos[0]][pos[1]-1] != 1 and 0 <= pos[0] < 5 and 0 <= pos[1] - 1 < 5:\n",
    "                    queue.append((pos[0],pos[1] - 1)) \n",
    "    \n",
    "                if i == \"Down\" and grid_copy[pos[0] + 1][pos[1]] != 1 and 0 <= pos[0] + 1 < 5 and 0 <= pos[1] < 5:\n",
    "                    queue.append((pos[0] + 1,pos[1]))\n",
    "    \n",
    "                if i == \"Up\" and grid_copy[pos[0] - 1][pos[1]] != 1 and 0 <= pos[0] - 1 < 5 and 0 <= pos[1] < 5: \n",
    "                    queue.append((pos[0]-1 , pos[1]))\n",
    "\n",
    "def run_agent(agent,environment,start):\n",
    "    percept = environment.get_percept(start)\n",
    "    agent.bfs(environment.graph,percept,environment)\n",
    "\n",
    "\n",
    "grid = [\n",
    "    ['S', 0, 1, 0, 0],\n",
    "    [1, 0, 1, 0, 1],\n",
    "    [1, 0, 0, 0, 'G'],\n",
    "    [1, 1, 1, 1, 1],\n",
    "    [0, 0, 0, 0, 0]\n",
    "]\n",
    "\n",
    "agent = Agent()\n",
    "environment = Environment(grid)\n",
    "start = (0,0)\n",
    "print(\"------------- Starting Position of Player -------------------\\n\\n\")\n",
    "run_agent(agent,environment,start)"
   ]
  },
  {
   "cell_type": "code",
   "execution_count": null,
   "id": "9d0803b2-80a9-406d-9fdb-a0f95a6c53b2",
   "metadata": {},
   "outputs": [],
   "source": []
  }
 ],
 "metadata": {
  "kernelspec": {
   "display_name": "Python 3 (ipykernel)",
   "language": "python",
   "name": "python3"
  },
  "language_info": {
   "codemirror_mode": {
    "name": "ipython",
    "version": 3
   },
   "file_extension": ".py",
   "mimetype": "text/x-python",
   "name": "python",
   "nbconvert_exporter": "python",
   "pygments_lexer": "ipython3",
   "version": "3.13.1"
  }
 },
 "nbformat": 4,
 "nbformat_minor": 5
}
